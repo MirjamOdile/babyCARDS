{
 "cells": [
  {
   "cell_type": "code",
   "execution_count": 1,
   "metadata": {},
   "outputs": [],
   "source": [
    "from preprocess import denoise_text\n",
    "from logistic import fit_logistic_classifier\n",
    "import pandas as pd\n",
    "from sklearn import metrics\n",
    "import warnings\n",
    "warnings.filterwarnings(\"ignore\", category=UserWarning, module='bs4')"
   ]
  },
  {
   "cell_type": "code",
   "execution_count": 2,
   "metadata": {},
   "outputs": [],
   "source": [
    "# Load the training data\n",
    "train = pd.read_csv('data/train.csv', lineterminator='\\n')\n",
    "# Preprocess the text\n",
    "train['text'] = train['text'].astype(str).apply(denoise_text)"
   ]
  },
  {
   "cell_type": "code",
   "execution_count": 3,
   "metadata": {},
   "outputs": [],
   "source": [
    "# Fit the classifier\n",
    "data = train[['text','label']].values.tolist()\n",
    "model = fit_logistic_classifier(data)"
   ]
  },
  {
   "cell_type": "code",
   "execution_count": 4,
   "metadata": {},
   "outputs": [],
   "source": [
    "# Load the validation and testing data\n",
    "valid = pd.read_csv('data/valid.csv', lineterminator='\\n')\n",
    "test = pd.read_csv('data/test.csv', lineterminator='\\n')\n",
    "# Preprocess the text\n",
    "valid['text'] = valid['text'].astype(str).apply(denoise_text)\n",
    "test['text'] = test['text'].astype(str).apply(denoise_text)\n",
    "# Encode the labels\n",
    "y_valid = model['label_encoder'].transform(valid.label)\n",
    "y_test = model['label_encoder'].transform(test.label)\n",
    "# Vectorize the text\n",
    "X_valid = model['vectorizer'].transform(valid.text)\n",
    "X_test = model['vectorizer'].transform(test.text)"
   ]
  },
  {
   "cell_type": "code",
   "execution_count": 5,
   "metadata": {},
   "outputs": [
    {
     "name": "stdout",
     "output_type": "stream",
     "text": [
      "Validation data:\n",
      "\n",
      "              precision    recall  f1-score   support\n",
      "\n",
      "           0       0.90      0.92      0.91    357773\n",
      "           1       0.94      0.92      0.93    433777\n",
      "\n",
      "    accuracy                           0.92    791550\n",
      "   macro avg       0.92      0.92      0.92    791550\n",
      "weighted avg       0.92      0.92      0.92    791550\n",
      "\n",
      "\n",
      "\n",
      "Testing data (unseen twitter handles):\n",
      "\n",
      "              precision    recall  f1-score   support\n",
      "\n",
      "           0       0.73      0.85      0.79    142178\n",
      "           1       0.90      0.81      0.85    231942\n",
      "\n",
      "    accuracy                           0.83    374120\n",
      "   macro avg       0.82      0.83      0.82    374120\n",
      "weighted avg       0.84      0.83      0.83    374120\n",
      "\n"
     ]
    }
   ],
   "source": [
    "# Inspect classifier performance\n",
    "print('Validation data:\\n')\n",
    "print(metrics.classification_report(y_valid,model['clf'].predict(X_valid)))\n",
    "print('\\n\\nTesting data (unseen twitter handles):\\n')\n",
    "print(metrics.classification_report(y_test,model['clf'].predict(X_test)))"
   ]
  },
  {
   "cell_type": "code",
   "execution_count": 7,
   "metadata": {},
   "outputs": [],
   "source": [
    "# Save and load the classifier\n",
    "import pickle\n",
    "pkl_filename = \"tweetyCARDS.pkl\"\n",
    "with open(pkl_filename, 'wb') as file:\n",
    "    pickle.dump(model, file)\n",
    "# Load from file\n",
    "with open(pkl_filename, 'rb') as file:\n",
    "    pickle_model = pickle.load(file)"
   ]
  }
 ],
 "metadata": {
  "kernelspec": {
   "display_name": "cards-github",
   "language": "python",
   "name": "cards-github"
  },
  "language_info": {
   "codemirror_mode": {
    "name": "ipython",
    "version": 3
   },
   "file_extension": ".py",
   "mimetype": "text/x-python",
   "name": "python",
   "nbconvert_exporter": "python",
   "pygments_lexer": "ipython3",
   "version": "3.8.10"
  }
 },
 "nbformat": 4,
 "nbformat_minor": 4
}
