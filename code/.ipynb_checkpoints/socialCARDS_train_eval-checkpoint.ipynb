{
 "cells": [
  {
   "cell_type": "code",
   "execution_count": 1,
   "metadata": {},
   "outputs": [],
   "source": [
    "## Author: Mirjam Nanko\n",
    "## Date Created: 2022-02-22\n",
    "## Email: m.nanko@exeter.ac.uk"
   ]
  },
  {
   "cell_type": "markdown",
   "metadata": {},
   "source": [
    "# socialCARDS classifier training and evaluation<br>\n",
    "#### This script loads the **training, validation and testing** data sourced from various **facebook and twitter accounts** and trains a classifier to classify these into **convinced** (0) and **contrarian** (1)."
   ]
  },
  {
   "cell_type": "markdown",
   "metadata": {},
   "source": [
    "# Packages"
   ]
  },
  {
   "cell_type": "code",
   "execution_count": 2,
   "metadata": {},
   "outputs": [],
   "source": [
    "from preprocess import denoise_text\n",
    "from logistic import fit_logistic_classifier\n",
    "import pandas as pd\n",
    "from sklearn import metrics\n",
    "import pickle\n",
    "import warnings\n",
    "warnings.filterwarnings(\"ignore\", category=UserWarning, module='bs4')"
   ]
  },
  {
   "cell_type": "markdown",
   "metadata": {},
   "source": [
    "# Load and preprocess the training, validation and testing data"
   ]
  },
  {
   "cell_type": "code",
   "execution_count": 3,
   "metadata": {},
   "outputs": [
    {
     "name": "stdout",
     "output_type": "stream",
     "text": [
      "CPU times: user 4min 22s, sys: 7.9 s, total: 4min 30s\n",
      "Wall time: 4min 28s\n"
     ]
    }
   ],
   "source": [
    "%%time\n",
    "# Load the data\n",
    "train = pd.read_csv('../data/socialCARDStrain.csv', lineterminator='\\n')\n",
    "valid = pd.read_csv('../data/socialCARDSvalid.csv', lineterminator='\\n')\n",
    "test = pd.read_csv('../data/socialCARDStest.csv', lineterminator='\\n')\n",
    "# Preprocess the text\n",
    "train['text'] = train['text'].astype(str).apply(denoise_text)\n",
    "valid['text'] = valid['text'].astype(str).apply(denoise_text)\n",
    "test['text'] = test['text'].astype(str).apply(denoise_text)"
   ]
  },
  {
   "cell_type": "markdown",
   "metadata": {},
   "source": [
    "# Train the logistic classifier"
   ]
  },
  {
   "cell_type": "code",
   "execution_count": 4,
   "metadata": {},
   "outputs": [
    {
     "name": "stdout",
     "output_type": "stream",
     "text": [
      "CPU times: user 45min 3s, sys: 1min 18s, total: 46min 21s\n",
      "Wall time: 6min 40s\n"
     ]
    }
   ],
   "source": [
    "%%time\n",
    "# Fit the classifier\n",
    "data = train[['text','label']].values.tolist()\n",
    "model = fit_logistic_classifier(data)"
   ]
  },
  {
   "cell_type": "markdown",
   "metadata": {},
   "source": [
    "# Encode and vectorize the validation and testing data"
   ]
  },
  {
   "cell_type": "code",
   "execution_count": 5,
   "metadata": {},
   "outputs": [
    {
     "name": "stdout",
     "output_type": "stream",
     "text": [
      "CPU times: user 45 s, sys: 872 ms, total: 45.8 s\n",
      "Wall time: 45.8 s\n"
     ]
    }
   ],
   "source": [
    "%%time\n",
    "# Encode the labels\n",
    "y_valid = model['label_encoder'].transform(valid.label)\n",
    "y_test = model['label_encoder'].transform(test.label)\n",
    "# Vectorize the text\n",
    "X_valid = model['vectorizer'].transform(valid.text)\n",
    "X_test = model['vectorizer'].transform(test.text)"
   ]
  },
  {
   "cell_type": "markdown",
   "metadata": {},
   "source": [
    "# Inspect the classifier performance"
   ]
  },
  {
   "cell_type": "code",
   "execution_count": 6,
   "metadata": {
    "scrolled": false
   },
   "outputs": [
    {
     "name": "stdout",
     "output_type": "stream",
     "text": [
      "Validation data:\n",
      "\n",
      "              precision    recall  f1-score   support\n",
      "\n",
      "           0       0.88      0.90      0.89    484130\n",
      "           1       0.91      0.89      0.90    547607\n",
      "\n",
      "    accuracy                           0.90   1031737\n",
      "   macro avg       0.90      0.90      0.90   1031737\n",
      "weighted avg       0.90      0.90      0.90   1031737\n",
      "\n",
      "\n",
      "\n",
      "Testing data (unseen twitter and facebook accounts):\n",
      "\n",
      "              precision    recall  f1-score   support\n",
      "\n",
      "           0       0.70      0.90      0.79    166797\n",
      "           1       0.89      0.67      0.77    200079\n",
      "\n",
      "    accuracy                           0.78    366876\n",
      "   macro avg       0.79      0.79      0.78    366876\n",
      "weighted avg       0.80      0.78      0.78    366876\n",
      "\n"
     ]
    }
   ],
   "source": [
    "print('Validation data:\\n')\n",
    "print(metrics.classification_report(y_valid,model['clf'].predict(X_valid)))\n",
    "print('\\n\\nTesting data (unseen twitter and facebook accounts):\\n')\n",
    "print(metrics.classification_report(y_test,model['clf'].predict(X_test)))"
   ]
  },
  {
   "cell_type": "markdown",
   "metadata": {},
   "source": [
    "# Save the classifier"
   ]
  },
  {
   "cell_type": "code",
   "execution_count": 7,
   "metadata": {},
   "outputs": [],
   "source": [
    "# Save the classifier\n",
    "pkl_filename = \"../classifiers/socialCARDS.pkl\"\n",
    "with open(pkl_filename, 'wb') as file:\n",
    "    pickle.dump(model, file)\n",
    "# Load classifier from file\n",
    "# with open(pkl_filename, 'rb') as file:\n",
    "#     model = pickle.load(file)"
   ]
  }
 ],
 "metadata": {
  "kernelspec": {
   "display_name": "simpletransformers",
   "language": "python",
   "name": "simpletransformers"
  },
  "language_info": {
   "codemirror_mode": {
    "name": "ipython",
    "version": 3
   },
   "file_extension": ".py",
   "mimetype": "text/x-python",
   "name": "python",
   "nbconvert_exporter": "python",
   "pygments_lexer": "ipython3",
   "version": "3.8.5"
  }
 },
 "nbformat": 4,
 "nbformat_minor": 4
}
