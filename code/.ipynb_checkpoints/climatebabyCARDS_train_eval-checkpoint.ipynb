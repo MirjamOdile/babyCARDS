{
 "cells": [
  {
   "cell_type": "code",
   "execution_count": 1,
   "metadata": {},
   "outputs": [],
   "source": [
    "## Author: Mirjam Nanko\n",
    "## Date Created: 2022-02-24\n",
    "## Email: m.nanko@exeter.ac.uk"
   ]
  },
  {
   "cell_type": "markdown",
   "metadata": {},
   "source": [
    "# babyCARDS classifier training and evaluation<br>\n",
    "#### This script loads the **training, validation and testing** data sourced from various **blogs, twitter, facebook and newspapers** and trains a classifier to classify these into **convinced** (0) and **contrarian** (1)."
   ]
  },
  {
   "cell_type": "markdown",
   "metadata": {},
   "source": [
    "# Packages"
   ]
  },
  {
   "cell_type": "code",
   "execution_count": 2,
   "metadata": {},
   "outputs": [],
   "source": [
    "from preprocess import denoise_text\n",
    "from logistic import fit_logistic_classifier\n",
    "import pandas as pd\n",
    "from sklearn import metrics\n",
    "import pickle\n",
    "import warnings\n",
    "warnings.filterwarnings(\"ignore\", category=UserWarning, module='bs4')"
   ]
  },
  {
   "cell_type": "markdown",
   "metadata": {},
   "source": [
    "# Load and preprocess the training, validation and testing data"
   ]
  },
  {
   "cell_type": "code",
   "execution_count": 3,
   "metadata": {},
   "outputs": [
    {
     "name": "stdout",
     "output_type": "stream",
     "text": [
      "CPU times: user 1min 11s, sys: 1.96 s, total: 1min 13s\n",
      "Wall time: 1min 13s\n"
     ]
    }
   ],
   "source": [
    "%%time\n",
    "# Load the data\n",
    "train = pd.read_csv('../data/climatebabyCARDStrain.csv', lineterminator='\\n')\n",
    "valid = pd.read_csv('../data/climatebabyCARDSvalid.csv', lineterminator='\\n')\n",
    "test = pd.read_csv('../data/climatebabyCARDStest.csv', lineterminator='\\n')\n",
    "# Preprocess the text\n",
    "train['text'] = train['text'].astype(str).apply(denoise_text)\n",
    "valid['text'] = valid['text'].astype(str).apply(denoise_text)\n",
    "test['text'] = test['text'].astype(str).apply(denoise_text)"
   ]
  },
  {
   "cell_type": "markdown",
   "metadata": {},
   "source": [
    "# Train the logistic classifier"
   ]
  },
  {
   "cell_type": "code",
   "execution_count": 4,
   "metadata": {},
   "outputs": [
    {
     "name": "stdout",
     "output_type": "stream",
     "text": [
      "CPU times: user 22min 27s, sys: 35.3 s, total: 23min 2s\n",
      "Wall time: 4min 40s\n"
     ]
    }
   ],
   "source": [
    "%%time\n",
    "# Fit the classifier\n",
    "data = train[['text','label']].values.tolist()\n",
    "model = fit_logistic_classifier(data)"
   ]
  },
  {
   "cell_type": "markdown",
   "metadata": {},
   "source": [
    "# Encode and vectorize the validation and testing data"
   ]
  },
  {
   "cell_type": "code",
   "execution_count": 5,
   "metadata": {},
   "outputs": [
    {
     "name": "stdout",
     "output_type": "stream",
     "text": [
      "CPU times: user 1min 5s, sys: 1.33 s, total: 1min 6s\n",
      "Wall time: 1min 5s\n"
     ]
    }
   ],
   "source": [
    "%%time\n",
    "# Encode the labels\n",
    "y_valid = model['label_encoder'].transform(valid.label)\n",
    "y_test = model['label_encoder'].transform(test.label)\n",
    "# Vectorize the text\n",
    "X_valid = model['vectorizer'].transform(valid.text)\n",
    "X_test = model['vectorizer'].transform(test.text)"
   ]
  },
  {
   "cell_type": "markdown",
   "metadata": {},
   "source": [
    "# Inspect the classifier performance"
   ]
  },
  {
   "cell_type": "code",
   "execution_count": 6,
   "metadata": {
    "scrolled": false
   },
   "outputs": [
    {
     "name": "stdout",
     "output_type": "stream",
     "text": [
      "Validation data:\n",
      "\n",
      "              precision    recall  f1-score   support\n",
      "\n",
      "           0       0.93      0.94      0.94     69659\n",
      "           1       0.93      0.92      0.92     56967\n",
      "\n",
      "    accuracy                           0.93    126626\n",
      "   macro avg       0.93      0.93      0.93    126626\n",
      "weighted avg       0.93      0.93      0.93    126626\n",
      "\n",
      "\n",
      "\n",
      "Testing data (unseen bloggers, twitter accounts, facebook accounts and newspaper articles):\n",
      "\n",
      "              precision    recall  f1-score   support\n",
      "\n",
      "           0       0.71      0.93      0.81     24090\n",
      "           1       0.95      0.75      0.84     37052\n",
      "\n",
      "    accuracy                           0.82     61142\n",
      "   macro avg       0.83      0.84      0.82     61142\n",
      "weighted avg       0.85      0.82      0.83     61142\n",
      "\n"
     ]
    }
   ],
   "source": [
    "print('Validation data:\\n')\n",
    "print(metrics.classification_report(y_valid,model['clf'].predict(X_valid)))\n",
    "print('\\n\\nTesting data (unseen bloggers, twitter accounts, facebook accounts and newspaper articles):\\n')\n",
    "print(metrics.classification_report(y_test,model['clf'].predict(X_test)))"
   ]
  },
  {
   "cell_type": "markdown",
   "metadata": {},
   "source": [
    "# Save the classifier"
   ]
  },
  {
   "cell_type": "code",
   "execution_count": 7,
   "metadata": {},
   "outputs": [],
   "source": [
    "# Save the classifier\n",
    "pkl_filename = \"../classifiers/climatebabyCARDS.pkl\"\n",
    "with open(pkl_filename, 'wb') as file:\n",
    "    pickle.dump(model, file)\n",
    "# Load classifier from file\n",
    "# with open(pkl_filename, 'rb') as file:\n",
    "#     model = pickle.load(file)"
   ]
  }
 ],
 "metadata": {
  "kernelspec": {
   "display_name": "simpletransformers",
   "language": "python",
   "name": "simpletransformers"
  },
  "language_info": {
   "codemirror_mode": {
    "name": "ipython",
    "version": 3
   },
   "file_extension": ".py",
   "mimetype": "text/x-python",
   "name": "python",
   "nbconvert_exporter": "python",
   "pygments_lexer": "ipython3",
   "version": "3.8.5"
  }
 },
 "nbformat": 4,
 "nbformat_minor": 4
}
