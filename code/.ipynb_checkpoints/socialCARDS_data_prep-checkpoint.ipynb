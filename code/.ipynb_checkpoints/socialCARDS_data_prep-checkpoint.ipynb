{
 "cells": [
  {
   "cell_type": "code",
   "execution_count": 1,
   "metadata": {},
   "outputs": [],
   "source": [
    "## Author: Mirjam Nanko\n",
    "## Date Created: 2022-02-22\n",
    "## Email: m.nanko@exeter.ac.uk"
   ]
  },
  {
   "cell_type": "markdown",
   "metadata": {},
   "source": [
    "# socialCARDS data preparation<br>\n",
    "#### This script loads and combines the **convinced** (0) and **contrarian** (1) posts sourced from **facebook and  twitter**, and splits it into **training, validation and testing** data sets. \n",
    "#### To get some measure of external validity, the testing data set is a \"pure\" held out data set that only contains text from \"unseen\" sources, i.e.  twitter and facebook accounts that the classifier was not trained on."
   ]
  },
  {
   "cell_type": "markdown",
   "metadata": {},
   "source": [
    "# Packages & functions"
   ]
  },
  {
   "cell_type": "code",
   "execution_count": 2,
   "metadata": {},
   "outputs": [],
   "source": [
    "import os\n",
    "import random\n",
    "import json\n",
    "import pandas as pd\n",
    "from sklearn.model_selection import train_test_split\n",
    "import nltk"
   ]
  },
  {
   "cell_type": "code",
   "execution_count": 3,
   "metadata": {},
   "outputs": [],
   "source": [
    "def train_valid_test_split(data, account_variable,\n",
    "                           random_test_sample_size = .15, \n",
    "                           valid_sample_size = .25, \n",
    "                           random_seed = 1, random_state = 1, \n",
    "                           shuffle = True):\n",
    "    \"\"\"Split the data into training, validation and testing data set, with the testing \n",
    "    data being completely held-out data by unseen accounts\"\"\"\n",
    "    \n",
    "    # Set a random seed\n",
    "    random.seed(random_seed)\n",
    "    \n",
    "    # Extract unique usernames for each side\n",
    "    contrarian_accounts = data[data[\"label\"]==1][account_variable].unique()\n",
    "    convinced_accounts = data[data[\"label\"]==0][account_variable].unique()\n",
    "    \n",
    "    # Create a randomn sample of users for the testing set for each side\n",
    "    samplesize_contrarian = int(round(random_test_sample_size*len(contrarian_accounts),0))\n",
    "    test_contrarian = random.sample(list(contrarian_accounts), samplesize_contrarian)\n",
    "    samplesize_convinced = int(round(random_test_sample_size*len(convinced_accounts),0))\n",
    "    test_convinced = random.sample(list(convinced_accounts), samplesize_convinced)\n",
    "    \n",
    "    # Separate the testing dataset\n",
    "    trainvalid = pd.concat([data[~data[account_variable].isin(test_contrarian + test_convinced)]])\n",
    "    test = pd.concat([data[data[account_variable].isin(test_contrarian + test_convinced)]])\n",
    "    \n",
    "    # Split training data into training and validation dataset\n",
    "    train, valid = train_test_split(trainvalid, test_size=valid_sample_size, \n",
    "                                    random_state=random_state, shuffle=shuffle)\n",
    "    print(\"Training data set with {} posts created.\".format(len(train)))\n",
    "    print(\"Validation data set with {} posts created.\".format(len(valid)))    \n",
    "    print(\"Testing data set with {} posts created.\".format(len(test)))    \n",
    "\n",
    "    return train, valid, test\n",
    "\n",
    "def load_tweets(folderpath, label, verbose = True):\n",
    "    \"\"\"This function loads twitter json files into a pandas dataframe and assigns them a\n",
    "    numeric label.\"\"\"\n",
    "    tweets, username, name, date, time = [[] for _ in range(5)]\n",
    "    for i, file in enumerate(os.listdir(folderpath)):\n",
    "        if verbose == True:\n",
    "            print(i, file)\n",
    "        for line in open('/'.join([folderpath, file]), 'r'):\n",
    "            tweets.append(json.loads(line)['tweet'])\n",
    "            username.append(json.loads(line)['username'])\n",
    "            name.append(json.loads(line)['name'])\n",
    "            date.append(json.loads(line)['date'])\n",
    "            time.append(json.loads(line)['time'])\n",
    "    df = pd.DataFrame(list(zip(tweets, [label]*len(tweets), username, name, date, time)),\n",
    "                    columns = ['text', 'label', 'username', 'name', 'date', 'time'])\n",
    "    if verbose == True:\n",
    "        print(\"\\n\")\n",
    "    return df\n",
    "\n",
    "def load_facebook(folderpath, label, verbose = True):\n",
    "    \"\"\"This function loads facebook json files into a pandas dataframe and assigns them a\n",
    "    numeric label.\"\"\"\n",
    "    text, handle, ID, name, pageAdminTopCountry, pageCategory, date, postUrl, link = [[] for _ in range(9)]\n",
    "    for i, file in enumerate(os.listdir(folderpath)):\n",
    "        if verbose == True:\n",
    "            print(i, file)\n",
    "        posts = json.load(open('/'.join([folderpath, file])))['posts']\n",
    "        for post in posts:\n",
    "            text.append(post.get('message'))\n",
    "            handle.append(post['account'].get('handle'))\n",
    "            ID.append(post['account'].get('id'))\n",
    "            name.append(post['account'].get('name'))\n",
    "            pageAdminTopCountry.append(post['account'].get('pageAdminTopCountry'))\n",
    "            pageCategory.append(post['account'].get('pageCategory'))\n",
    "            date.append(post.get('date'))\n",
    "            postUrl.append(post.get('postUrl'))\n",
    "            link.append(post.get('link'))     \n",
    "    df = pd.DataFrame(list(zip(text, [label]*len(text), handle, ID, name, pageAdminTopCountry, pageCategory, date, postUrl, link)),\n",
    "                    columns = ['text', 'label', 'handle', 'ID', 'name', 'pageAdminTopCountry', 'pageCategory', 'date', 'postUrl', 'link'])\n",
    "    df = df.dropna(subset=['text'])\n",
    "    if verbose == True:\n",
    "        print(\"\\n\")\n",
    "    return df"
   ]
  },
  {
   "cell_type": "markdown",
   "metadata": {},
   "source": [
    "# Load data"
   ]
  },
  {
   "cell_type": "markdown",
   "metadata": {},
   "source": [
    "## Twitter"
   ]
  },
  {
   "cell_type": "code",
   "execution_count": 4,
   "metadata": {
    "scrolled": true
   },
   "outputs": [
    {
     "name": "stdout",
     "output_type": "stream",
     "text": [
      "---Load the contrarian tweets---\n",
      "\n",
      "1966699 contrarian tweets loaded.\n",
      "\n",
      "\n",
      "---Load the convinced tweets---\n",
      "\n",
      "1573621 convinced tweets loaded.\n",
      "\n",
      "\n",
      "---Split the data (test data: unseen twitter handles)---\n",
      "\n",
      "Training data set with 2431705 posts created.\n",
      "Validation data set with 810569 posts created.\n",
      "Testing data set with 298046 posts created.\n"
     ]
    }
   ],
   "source": [
    "print('---Load the contrarian tweets---\\n')\n",
    "twitter_contrarian = load_tweets('../data/twitter/contrarian', label = 1, verbose = False)\n",
    "print(len(twitter_contrarian), \"contrarian tweets loaded.\")\n",
    "\n",
    "print('\\n\\n---Load the convinced tweets---\\n')\n",
    "twitter_convinced = load_tweets('../data/twitter/convinced', label = 0, verbose = False)\n",
    "print(len(twitter_convinced), \"convinced tweets loaded.\\n\\n\")\n",
    "\n",
    "print('---Split the data (test data: unseen twitter handles)---\\n')\n",
    "twitter = pd.concat([twitter_contrarian, twitter_convinced])\n",
    "twitter['type'] = \"twitter\"\n",
    "twitter_train, twitter_valid, twitter_test = train_valid_test_split(twitter, \"username\") # Here the held out data is unseen twitter accounts."
   ]
  },
  {
   "cell_type": "markdown",
   "metadata": {},
   "source": [
    "## Facebook"
   ]
  },
  {
   "cell_type": "code",
   "execution_count": 5,
   "metadata": {
    "scrolled": true
   },
   "outputs": [
    {
     "name": "stdout",
     "output_type": "stream",
     "text": [
      "---Load the contrarian facebook posts---\n",
      "\n",
      "425551 contrarian facebook posts loaded.\n",
      "\n",
      "\n",
      "---Load the convinced facebook posts---\n",
      "\n",
      "527951 convinced facebook posts loaded.\n",
      "\n",
      "\n",
      "---Split the data (test data: unseen facebook handles)---\n",
      "\n",
      "Training data set with 663504 posts created.\n",
      "Validation data set with 221168 posts created.\n",
      "Testing data set with 68830 posts created.\n"
     ]
    }
   ],
   "source": [
    "print('---Load the contrarian facebook posts---\\n')\n",
    "facebook_contrarian = load_facebook('../data/facebook/contrarian', label = 1, verbose = False)\n",
    "print(len(facebook_contrarian), \"contrarian facebook posts loaded.\")\n",
    "# 449199 contrarian facebook posts loaded.\n",
    "\n",
    "print('\\n\\n---Load the convinced facebook posts---\\n')\n",
    "facebook_convinced = load_facebook('../data/facebook/convinced', label = 0, verbose = False)\n",
    "print(len(facebook_convinced), \"convinced facebook posts loaded.\\n\\n\")\n",
    "\n",
    "print('---Split the data (test data: unseen facebook handles)---\\n')\n",
    "facebook = pd.concat([facebook_contrarian, facebook_convinced])\n",
    "facebook['type'] = \"facebook\"\n",
    "facebook_train, facebook_valid, facebook_test = train_valid_test_split(facebook, \"handle\") # Here the held out data is unseen facebook accounts."
   ]
  },
  {
   "cell_type": "markdown",
   "metadata": {},
   "source": [
    "# Combine & export data"
   ]
  },
  {
   "cell_type": "code",
   "execution_count": 6,
   "metadata": {},
   "outputs": [
    {
     "data": {
      "text/html": [
       "<div>\n",
       "<style scoped>\n",
       "    .dataframe tbody tr th:only-of-type {\n",
       "        vertical-align: middle;\n",
       "    }\n",
       "\n",
       "    .dataframe tbody tr th {\n",
       "        vertical-align: top;\n",
       "    }\n",
       "\n",
       "    .dataframe thead th {\n",
       "        text-align: right;\n",
       "    }\n",
       "</style>\n",
       "<table border=\"1\" class=\"dataframe\">\n",
       "  <thead>\n",
       "    <tr style=\"text-align: right;\">\n",
       "      <th></th>\n",
       "      <th>text</th>\n",
       "      <th>label</th>\n",
       "      <th>type</th>\n",
       "    </tr>\n",
       "  </thead>\n",
       "  <tbody>\n",
       "    <tr>\n",
       "      <th>0</th>\n",
       "      <td>Notley digs for scraps of good under a mountai...</td>\n",
       "      <td>1</td>\n",
       "      <td>twitter</td>\n",
       "    </tr>\n",
       "    <tr>\n",
       "      <th>1</th>\n",
       "      <td>Busted Bugs: German Wind Turbines Demolishing ...</td>\n",
       "      <td>1</td>\n",
       "      <td>twitter</td>\n",
       "    </tr>\n",
       "    <tr>\n",
       "      <th>2</th>\n",
       "      <td>Lol. Stayed till the bitter end 😡😕  https://t....</td>\n",
       "      <td>1</td>\n",
       "      <td>twitter</td>\n",
       "    </tr>\n",
       "    <tr>\n",
       "      <th>3</th>\n",
       "      <td>July 14 1954 was one of the hottest days on re...</td>\n",
       "      <td>1</td>\n",
       "      <td>twitter</td>\n",
       "    </tr>\n",
       "    <tr>\n",
       "      <th>4</th>\n",
       "      <td>Understanding the value of nature for business...</td>\n",
       "      <td>0</td>\n",
       "      <td>twitter</td>\n",
       "    </tr>\n",
       "    <tr>\n",
       "      <th>...</th>\n",
       "      <td>...</td>\n",
       "      <td>...</td>\n",
       "      <td>...</td>\n",
       "    </tr>\n",
       "    <tr>\n",
       "      <th>3095204</th>\n",
       "      <td>Kardashian used social media to demean and slu...</td>\n",
       "      <td>0</td>\n",
       "      <td>facebook</td>\n",
       "    </tr>\n",
       "    <tr>\n",
       "      <th>3095205</th>\n",
       "      <td>Freeze them first!</td>\n",
       "      <td>0</td>\n",
       "      <td>facebook</td>\n",
       "    </tr>\n",
       "    <tr>\n",
       "      <th>3095206</th>\n",
       "      <td>\"This is a crisis of radical proportions, and ...</td>\n",
       "      <td>0</td>\n",
       "      <td>facebook</td>\n",
       "    </tr>\n",
       "    <tr>\n",
       "      <th>3095207</th>\n",
       "      <td>A summary of the best coverage of climate chan...</td>\n",
       "      <td>0</td>\n",
       "      <td>facebook</td>\n",
       "    </tr>\n",
       "    <tr>\n",
       "      <th>3095208</th>\n",
       "      <td>The Democrat agenda depends on deliberately dr...</td>\n",
       "      <td>1</td>\n",
       "      <td>facebook</td>\n",
       "    </tr>\n",
       "  </tbody>\n",
       "</table>\n",
       "<p>3095209 rows × 3 columns</p>\n",
       "</div>"
      ],
      "text/plain": [
       "                                                      text  label      type\n",
       "0        Notley digs for scraps of good under a mountai...      1   twitter\n",
       "1        Busted Bugs: German Wind Turbines Demolishing ...      1   twitter\n",
       "2        Lol. Stayed till the bitter end 😡😕  https://t....      1   twitter\n",
       "3        July 14 1954 was one of the hottest days on re...      1   twitter\n",
       "4        Understanding the value of nature for business...      0   twitter\n",
       "...                                                    ...    ...       ...\n",
       "3095204  Kardashian used social media to demean and slu...      0  facebook\n",
       "3095205                                 Freeze them first!      0  facebook\n",
       "3095206  \"This is a crisis of radical proportions, and ...      0  facebook\n",
       "3095207  A summary of the best coverage of climate chan...      0  facebook\n",
       "3095208  The Democrat agenda depends on deliberately dr...      1  facebook\n",
       "\n",
       "[3095209 rows x 3 columns]"
      ]
     },
     "execution_count": 6,
     "metadata": {},
     "output_type": "execute_result"
    }
   ],
   "source": [
    "train = pd.concat([twitter_train[['text', 'label', 'type']],\n",
    "                  facebook_train[['text', 'label', 'type']]]).reset_index(drop = True)\n",
    "train"
   ]
  },
  {
   "cell_type": "code",
   "execution_count": 8,
   "metadata": {},
   "outputs": [
    {
     "data": {
      "text/html": [
       "<div>\n",
       "<style scoped>\n",
       "    .dataframe tbody tr th:only-of-type {\n",
       "        vertical-align: middle;\n",
       "    }\n",
       "\n",
       "    .dataframe tbody tr th {\n",
       "        vertical-align: top;\n",
       "    }\n",
       "\n",
       "    .dataframe thead th {\n",
       "        text-align: right;\n",
       "    }\n",
       "</style>\n",
       "<table border=\"1\" class=\"dataframe\">\n",
       "  <thead>\n",
       "    <tr style=\"text-align: right;\">\n",
       "      <th></th>\n",
       "      <th>text</th>\n",
       "      <th>label</th>\n",
       "      <th>type</th>\n",
       "    </tr>\n",
       "  </thead>\n",
       "  <tbody>\n",
       "    <tr>\n",
       "      <th>0</th>\n",
       "      <td>The only way to make schools safe again is to ...</td>\n",
       "      <td>1</td>\n",
       "      <td>twitter</td>\n",
       "    </tr>\n",
       "    <tr>\n",
       "      <th>1</th>\n",
       "      <td>Big congrats to former CEI intern Andrew Gross...</td>\n",
       "      <td>1</td>\n",
       "      <td>twitter</td>\n",
       "    </tr>\n",
       "    <tr>\n",
       "      <th>2</th>\n",
       "      <td>Private enterprise versus free enterprise  htt...</td>\n",
       "      <td>1</td>\n",
       "      <td>twitter</td>\n",
       "    </tr>\n",
       "    <tr>\n",
       "      <th>3</th>\n",
       "      <td>This mother is fighting woke activism in publi...</td>\n",
       "      <td>1</td>\n",
       "      <td>twitter</td>\n",
       "    </tr>\n",
       "    <tr>\n",
       "      <th>4</th>\n",
       "      <td>@nonkelpier @gryffroy @de_NVA LOL. Sure</td>\n",
       "      <td>1</td>\n",
       "      <td>twitter</td>\n",
       "    </tr>\n",
       "    <tr>\n",
       "      <th>...</th>\n",
       "      <td>...</td>\n",
       "      <td>...</td>\n",
       "      <td>...</td>\n",
       "    </tr>\n",
       "    <tr>\n",
       "      <th>1031732</th>\n",
       "      <td>The 2020 RNC kicked off with a fire hose of fa...</td>\n",
       "      <td>0</td>\n",
       "      <td>facebook</td>\n",
       "    </tr>\n",
       "    <tr>\n",
       "      <th>1031733</th>\n",
       "      <td>Lance Izumi's op-ed featured in Fort Worth Sta...</td>\n",
       "      <td>1</td>\n",
       "      <td>facebook</td>\n",
       "    </tr>\n",
       "    <tr>\n",
       "      <th>1031734</th>\n",
       "      <td>Lock China out of the capital markets!</td>\n",
       "      <td>1</td>\n",
       "      <td>facebook</td>\n",
       "    </tr>\n",
       "    <tr>\n",
       "      <th>1031735</th>\n",
       "      <td>'GRATEFUL TO BE SAFE': American ally shows tha...</td>\n",
       "      <td>1</td>\n",
       "      <td>facebook</td>\n",
       "    </tr>\n",
       "    <tr>\n",
       "      <th>1031736</th>\n",
       "      <td>No other developed country does it quite like ...</td>\n",
       "      <td>0</td>\n",
       "      <td>facebook</td>\n",
       "    </tr>\n",
       "  </tbody>\n",
       "</table>\n",
       "<p>1031737 rows × 3 columns</p>\n",
       "</div>"
      ],
      "text/plain": [
       "                                                      text  label      type\n",
       "0        The only way to make schools safe again is to ...      1   twitter\n",
       "1        Big congrats to former CEI intern Andrew Gross...      1   twitter\n",
       "2        Private enterprise versus free enterprise  htt...      1   twitter\n",
       "3        This mother is fighting woke activism in publi...      1   twitter\n",
       "4                  @nonkelpier @gryffroy @de_NVA LOL. Sure      1   twitter\n",
       "...                                                    ...    ...       ...\n",
       "1031732  The 2020 RNC kicked off with a fire hose of fa...      0  facebook\n",
       "1031733  Lance Izumi's op-ed featured in Fort Worth Sta...      1  facebook\n",
       "1031734             Lock China out of the capital markets!      1  facebook\n",
       "1031735  'GRATEFUL TO BE SAFE': American ally shows tha...      1  facebook\n",
       "1031736  No other developed country does it quite like ...      0  facebook\n",
       "\n",
       "[1031737 rows x 3 columns]"
      ]
     },
     "execution_count": 8,
     "metadata": {},
     "output_type": "execute_result"
    }
   ],
   "source": [
    "valid = pd.concat([twitter_valid[['text', 'label', 'type']],\n",
    "                  facebook_valid[['text', 'label', 'type']]]).reset_index(drop = True)\n",
    "valid"
   ]
  },
  {
   "cell_type": "code",
   "execution_count": 7,
   "metadata": {},
   "outputs": [
    {
     "data": {
      "text/html": [
       "<div>\n",
       "<style scoped>\n",
       "    .dataframe tbody tr th:only-of-type {\n",
       "        vertical-align: middle;\n",
       "    }\n",
       "\n",
       "    .dataframe tbody tr th {\n",
       "        vertical-align: top;\n",
       "    }\n",
       "\n",
       "    .dataframe thead th {\n",
       "        text-align: right;\n",
       "    }\n",
       "</style>\n",
       "<table border=\"1\" class=\"dataframe\">\n",
       "  <thead>\n",
       "    <tr style=\"text-align: right;\">\n",
       "      <th></th>\n",
       "      <th>text</th>\n",
       "      <th>label</th>\n",
       "      <th>type</th>\n",
       "    </tr>\n",
       "  </thead>\n",
       "  <tbody>\n",
       "    <tr>\n",
       "      <th>0</th>\n",
       "      <td>The World Wants Greenland’s Minerals, but Gree...</td>\n",
       "      <td>1</td>\n",
       "      <td>twitter</td>\n",
       "    </tr>\n",
       "    <tr>\n",
       "      <th>1</th>\n",
       "      <td>Mayor Bronson defends use of Holocaust imagery...</td>\n",
       "      <td>1</td>\n",
       "      <td>twitter</td>\n",
       "    </tr>\n",
       "    <tr>\n",
       "      <th>2</th>\n",
       "      <td>In Well-Vaccinated Maine, Covid-19 Still Fills...</td>\n",
       "      <td>1</td>\n",
       "      <td>twitter</td>\n",
       "    </tr>\n",
       "    <tr>\n",
       "      <th>3</th>\n",
       "      <td>Australia set to announce ‘no jab, no pay’ rul...</td>\n",
       "      <td>1</td>\n",
       "      <td>twitter</td>\n",
       "    </tr>\n",
       "    <tr>\n",
       "      <th>4</th>\n",
       "      <td>Melbourne cases hit record despite two months ...</td>\n",
       "      <td>1</td>\n",
       "      <td>twitter</td>\n",
       "    </tr>\n",
       "    <tr>\n",
       "      <th>...</th>\n",
       "      <td>...</td>\n",
       "      <td>...</td>\n",
       "      <td>...</td>\n",
       "    </tr>\n",
       "    <tr>\n",
       "      <th>366871</th>\n",
       "      <td>NASA doesn’t study just the stars and planets;...</td>\n",
       "      <td>0</td>\n",
       "      <td>facebook</td>\n",
       "    </tr>\n",
       "    <tr>\n",
       "      <th>366872</th>\n",
       "      <td>\"He was playing, having a grand old time.\"</td>\n",
       "      <td>0</td>\n",
       "      <td>facebook</td>\n",
       "    </tr>\n",
       "    <tr>\n",
       "      <th>366873</th>\n",
       "      <td>Even by the standards of 90 million years ago,...</td>\n",
       "      <td>0</td>\n",
       "      <td>facebook</td>\n",
       "    </tr>\n",
       "    <tr>\n",
       "      <th>366874</th>\n",
       "      <td>33 years ago today, a catastrophic nuclear acc...</td>\n",
       "      <td>0</td>\n",
       "      <td>facebook</td>\n",
       "    </tr>\n",
       "    <tr>\n",
       "      <th>366875</th>\n",
       "      <td>\"Drones are unlocking a treasure trove of unex...</td>\n",
       "      <td>0</td>\n",
       "      <td>facebook</td>\n",
       "    </tr>\n",
       "  </tbody>\n",
       "</table>\n",
       "<p>366876 rows × 3 columns</p>\n",
       "</div>"
      ],
      "text/plain": [
       "                                                     text  label      type\n",
       "0       The World Wants Greenland’s Minerals, but Gree...      1   twitter\n",
       "1       Mayor Bronson defends use of Holocaust imagery...      1   twitter\n",
       "2       In Well-Vaccinated Maine, Covid-19 Still Fills...      1   twitter\n",
       "3       Australia set to announce ‘no jab, no pay’ rul...      1   twitter\n",
       "4       Melbourne cases hit record despite two months ...      1   twitter\n",
       "...                                                   ...    ...       ...\n",
       "366871  NASA doesn’t study just the stars and planets;...      0  facebook\n",
       "366872         \"He was playing, having a grand old time.\"      0  facebook\n",
       "366873  Even by the standards of 90 million years ago,...      0  facebook\n",
       "366874  33 years ago today, a catastrophic nuclear acc...      0  facebook\n",
       "366875  \"Drones are unlocking a treasure trove of unex...      0  facebook\n",
       "\n",
       "[366876 rows x 3 columns]"
      ]
     },
     "execution_count": 7,
     "metadata": {},
     "output_type": "execute_result"
    }
   ],
   "source": [
    "test = pd.concat([twitter_test[['text', 'label', 'type']],\n",
    "                  facebook_test[['text', 'label', 'type']]]).reset_index(drop = True)\n",
    "test"
   ]
  },
  {
   "cell_type": "code",
   "execution_count": 9,
   "metadata": {},
   "outputs": [
    {
     "data": {
      "text/plain": [
       "twitter     0.824346\n",
       "facebook    0.175654\n",
       "Name: type, dtype: float64"
      ]
     },
     "execution_count": 9,
     "metadata": {},
     "output_type": "execute_result"
    }
   ],
   "source": [
    "train[['type', 'label']][train.label == 1].type.value_counts(normalize=True)"
   ]
  },
  {
   "cell_type": "code",
   "execution_count": 10,
   "metadata": {},
   "outputs": [
    {
     "data": {
      "text/plain": [
       "twitter     0.741749\n",
       "facebook    0.258251\n",
       "Name: type, dtype: float64"
      ]
     },
     "execution_count": 10,
     "metadata": {},
     "output_type": "execute_result"
    }
   ],
   "source": [
    "train[['type', 'label']][train.label == 0].type.value_counts(normalize=True)"
   ]
  },
  {
   "cell_type": "code",
   "execution_count": 11,
   "metadata": {},
   "outputs": [
    {
     "data": {
      "text/plain": [
       "1    0.531326\n",
       "0    0.468674\n",
       "Name: label, dtype: float64"
      ]
     },
     "execution_count": 11,
     "metadata": {},
     "output_type": "execute_result"
    }
   ],
   "source": [
    "train.label.value_counts(normalize=True)"
   ]
  },
  {
   "cell_type": "code",
   "execution_count": 12,
   "metadata": {},
   "outputs": [],
   "source": [
    "# Save the data sets\n",
    "train.to_csv('../data/socialCARDStrain.csv', index = False, encoding = 'utf-8')\n",
    "valid.to_csv('../data/socialCARDSvalid.csv', index = False, encoding = 'utf-8')\n",
    "test.to_csv('../data/socialCARDStest.csv', index = False, encoding = 'utf-8')"
   ]
  }
 ],
 "metadata": {
  "kernelspec": {
   "display_name": "FastAI",
   "language": "python",
   "name": "fastai"
  },
  "language_info": {
   "codemirror_mode": {
    "name": "ipython",
    "version": 3
   },
   "file_extension": ".py",
   "mimetype": "text/x-python",
   "name": "python",
   "nbconvert_exporter": "python",
   "pygments_lexer": "ipython3",
   "version": "3.6.9"
  }
 },
 "nbformat": 4,
 "nbformat_minor": 4
}
