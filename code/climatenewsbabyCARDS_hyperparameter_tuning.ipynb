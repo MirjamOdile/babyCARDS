{
 "cells": [
  {
   "cell_type": "code",
   "execution_count": 1,
   "metadata": {},
   "outputs": [],
   "source": [
    "## Author: Mirjam Nanko\n",
    "## Date Created: 2022-10-13\n",
    "## Email: m.nanko@exeter.ac.uk"
   ]
  },
  {
   "cell_type": "markdown",
   "metadata": {},
   "source": [
    "# climatenewsbabyCARDS classifier hyperparameter tuning<br>\n",
    "#### This script loads the climate related **training** data sourced from various **blogs and newspapers** and uses the sklearn GridSearchCV function with 5-fold cross validation to tune the regularization strength hyperparameter C"
   ]
  },
  {
   "cell_type": "markdown",
   "metadata": {},
   "source": [
    "# Packages"
   ]
  },
  {
   "cell_type": "code",
   "execution_count": 2,
   "metadata": {},
   "outputs": [],
   "source": [
    "from preprocess_climatenews import denoise_text\n",
    "from preprocess_climatenews import simple_tokenise\n",
    "from sklearn import preprocessing\n",
    "from sklearn.feature_extraction.text import TfidfVectorizer\n",
    "from sklearn.linear_model import LogisticRegression\n",
    "from sklearn.model_selection import GridSearchCV\n",
    "import pandas as pd\n",
    "import warnings\n",
    "warnings.filterwarnings(\"ignore\", category=UserWarning, module='bs4')"
   ]
  },
  {
   "cell_type": "markdown",
   "metadata": {},
   "source": [
    "# Load and preprocess the training, validation and testing data"
   ]
  },
  {
   "cell_type": "code",
   "execution_count": 3,
   "metadata": {},
   "outputs": [
    {
     "name": "stdout",
     "output_type": "stream",
     "text": [
      "CPU times: user 43.7 s, sys: 1.04 s, total: 44.7 s\n",
      "Wall time: 44.8 s\n"
     ]
    }
   ],
   "source": [
    "%%time\n",
    "# Load the data\n",
    "train = pd.read_csv('../data/climatenewsbabyCARDStrain.csv', lineterminator='\\n')\n",
    "# Preprocess the text\n",
    "train['tokens'] = train['text'].astype(str).apply(denoise_text).apply(simple_tokenise)\n",
    "data = train[['tokens','label']].values.tolist()"
   ]
  },
  {
   "cell_type": "markdown",
   "metadata": {},
   "source": [
    "# Train the logistic classifier"
   ]
  },
  {
   "cell_type": "code",
   "execution_count": 4,
   "metadata": {},
   "outputs": [
    {
     "name": "stdout",
     "output_type": "stream",
     "text": [
      "CPU times: user 4 µs, sys: 0 ns, total: 4 µs\n",
      "Wall time: 6.68 µs\n"
     ]
    }
   ],
   "source": [
    "%time\n",
    "# Find ideal C hyperparameter value\n",
    "# Encode labels\n",
    "claims = [row[1] for row in data]\n",
    "le = preprocessing.LabelEncoder()\n",
    "y = le.fit_transform(claims)\n",
    "\n",
    "# Vectorize\n",
    "text = [row[0] for row in data]\n",
    "\n",
    "# Setup the Tf-Idf vectorizer\n",
    "vectorizer = TfidfVectorizer(stop_words=None,\n",
    "                             min_df=2,\n",
    "                             strip_accents='unicode',\n",
    "                             ngram_range=(1, 2), \n",
    "                             lowercase=True, \n",
    "                             sublinear_tf=1)\n",
    "X = vectorizer.fit_transform(text)"
   ]
  },
  {
   "cell_type": "code",
   "execution_count": 5,
   "metadata": {},
   "outputs": [],
   "source": [
    "# Set up parameters and logistic regression\n",
    "parameters = {'C':[1, 5, 10, 20, 50, 100, 500, 1000]}\n",
    "# L1 Lasso regularization\n",
    "clf_logit_L1 = LogisticRegression(max_iter=500, penalty='l1', class_weight='balanced', solver='liblinear')\n",
    "cv_L1 = GridSearchCV(clf_logit_L1, parameters)\n",
    "\n",
    "# L2 Ridge regularization\n",
    "clf_logit_L2 = LogisticRegression(max_iter=500, penalty='l2', class_weight='balanced', solver='liblinear')\n",
    "cv_L2 = GridSearchCV(clf_logit_L2, parameters)"
   ]
  },
  {
   "cell_type": "code",
   "execution_count": 6,
   "metadata": {},
   "outputs": [
    {
     "name": "stdout",
     "output_type": "stream",
     "text": [
      "CPU times: user 7 µs, sys: 0 ns, total: 7 µs\n",
      "Wall time: 14.3 µs\n"
     ]
    },
    {
     "data": {
      "text/plain": [
       "{'C': 10}"
      ]
     },
     "execution_count": 6,
     "metadata": {},
     "output_type": "execute_result"
    }
   ],
   "source": [
    "%time\n",
    "# Perform L1 grid search\n",
    "cv_L1.fit(X, y)\n",
    "cv_L1.best_params_"
   ]
  },
  {
   "cell_type": "code",
   "execution_count": 7,
   "metadata": {
    "scrolled": true
   },
   "outputs": [
    {
     "name": "stdout",
     "output_type": "stream",
     "text": [
      "CPU times: user 6 µs, sys: 0 ns, total: 6 µs\n",
      "Wall time: 11.4 µs\n"
     ]
    },
    {
     "data": {
      "text/plain": [
       "{'C': 1000}"
      ]
     },
     "execution_count": 7,
     "metadata": {},
     "output_type": "execute_result"
    }
   ],
   "source": [
    "%time\n",
    "# Perform L2 grid search\n",
    "cv_L2.fit(X, y)\n",
    "cv_L2.best_params_"
   ]
  },
  {
   "cell_type": "code",
   "execution_count": 8,
   "metadata": {},
   "outputs": [
    {
     "data": {
      "text/plain": [
       "{'mean_fit_time': array([32.07599435, 42.26853051, 51.55308914, 53.43324013, 48.7587513 ,\n",
       "        46.13012691, 31.67454405, 28.68828239]),\n",
       " 'std_fit_time': array([1.15483735, 0.11186014, 1.46844   , 1.63208138, 3.04612992,\n",
       "        2.10732535, 1.68323238, 1.12412047]),\n",
       " 'mean_score_time': array([0.09328675, 0.09094739, 0.09194455, 0.0895792 , 0.08852959,\n",
       "        0.08616414, 0.08944435, 0.08819113]),\n",
       " 'std_score_time': array([0.01033679, 0.01055909, 0.01055056, 0.00586643, 0.00567823,\n",
       "        0.00568095, 0.0053267 , 0.00795436]),\n",
       " 'param_C': masked_array(data=[1, 5, 10, 20, 50, 100, 500, 1000],\n",
       "              mask=[False, False, False, False, False, False, False, False],\n",
       "        fill_value='?',\n",
       "             dtype=object),\n",
       " 'params': [{'C': 1},\n",
       "  {'C': 5},\n",
       "  {'C': 10},\n",
       "  {'C': 20},\n",
       "  {'C': 50},\n",
       "  {'C': 100},\n",
       "  {'C': 500},\n",
       "  {'C': 1000}],\n",
       " 'split0_test_score': array([0.91088253, 0.92972639, 0.93137215, 0.92993211, 0.93009669,\n",
       "        0.92931496, 0.9300144 , 0.9323596 ]),\n",
       " 'split1_test_score': array([0.90857848, 0.93194816, 0.93268875, 0.93174244, 0.93166015,\n",
       "        0.931331  , 0.92984983, 0.9323596 ]),\n",
       " 'split2_test_score': array([0.90857848, 0.9306727 , 0.93182473, 0.93190702, 0.93161901,\n",
       "        0.93194816, 0.93178358, 0.9366797 ]),\n",
       " 'split3_test_score': array([0.90594141, 0.9270079 , 0.9297235 , 0.93021725, 0.93013496,\n",
       "        0.93009381, 0.92910632, 0.93095787]),\n",
       " 'split4_test_score': array([0.85771889, 0.87705727, 0.87574062, 0.87467084, 0.87162607,\n",
       "        0.87018598, 0.86747038, 0.86697663]),\n",
       " 'mean_test_score': array([0.89833996, 0.91928249, 0.92026995, 0.91969393, 0.91902738,\n",
       "        0.91857478, 0.9176449 , 0.91986668]),\n",
       " 'std_test_score': array([0.02037068, 0.0211749 , 0.02228555, 0.02252539, 0.02371045,\n",
       "        0.02421191, 0.02510265, 0.02651488]),\n",
       " 'rank_test_score': array([8, 4, 1, 3, 5, 6, 7, 2], dtype=int32)}"
      ]
     },
     "execution_count": 8,
     "metadata": {},
     "output_type": "execute_result"
    }
   ],
   "source": [
    "cv_L1.cv_results_"
   ]
  },
  {
   "cell_type": "code",
   "execution_count": 9,
   "metadata": {},
   "outputs": [
    {
     "data": {
      "text/plain": [
       "{'mean_fit_time': array([ 48.26572132,  74.29419689,  93.77355814,  96.87537289,\n",
       "        110.69769611, 121.36011276, 151.42735777, 168.83207674]),\n",
       " 'std_fit_time': array([ 1.25063904,  2.77722699,  2.59367675,  2.42946292,  7.05691614,\n",
       "         2.45482127,  7.88217407, 12.5771309 ]),\n",
       " 'mean_score_time': array([0.08580785, 0.08629742, 0.08611054, 0.08632259, 0.08660536,\n",
       "        0.08778434, 0.08808236, 0.08799281]),\n",
       " 'std_score_time': array([0.00482981, 0.00613225, 0.00412168, 0.00482022, 0.0039253 ,\n",
       "        0.0033321 , 0.00516718, 0.00536627]),\n",
       " 'param_C': masked_array(data=[1, 5, 10, 20, 50, 100, 500, 1000],\n",
       "              mask=[False, False, False, False, False, False, False, False],\n",
       "        fill_value='?',\n",
       "             dtype=object),\n",
       " 'params': [{'C': 1},\n",
       "  {'C': 5},\n",
       "  {'C': 10},\n",
       "  {'C': 20},\n",
       "  {'C': 50},\n",
       "  {'C': 100},\n",
       "  {'C': 500},\n",
       "  {'C': 1000}],\n",
       " 'split0_test_score': array([0.91623123, 0.93297675, 0.93602139, 0.937626  , 0.93832545,\n",
       "        0.93886032, 0.93898375, 0.93923061]),\n",
       " 'split1_test_score': array([0.91721868, 0.93227731, 0.93507509, 0.93704999, 0.93861345,\n",
       "        0.93902489, 0.94030035, 0.9406295 ]),\n",
       " 'split2_test_score': array([0.91660152, 0.93182473, 0.93519852, 0.93672084, 0.93857231,\n",
       "        0.93927175, 0.94030035, 0.94067064]),\n",
       " 'split3_test_score': array([0.91392363, 0.92754279, 0.93157505, 0.93371461, 0.93486669,\n",
       "        0.93560731, 0.93630678, 0.93663594]),\n",
       " 'split4_test_score': array([0.86627716, 0.87619322, 0.87792133, 0.87874424, 0.87956715,\n",
       "        0.87993746, 0.87956715, 0.87981402]),\n",
       " 'mean_test_score': array([0.90605044, 0.92016296, 0.92315828, 0.92477114, 0.92598901,\n",
       "        0.92654035, 0.92709168, 0.92739614]),\n",
       " 'std_test_score': array([0.01991785, 0.02206693, 0.02267007, 0.0230533 , 0.02325384,\n",
       "        0.02333998, 0.02380697, 0.02383619]),\n",
       " 'rank_test_score': array([8, 7, 6, 5, 4, 3, 2, 1], dtype=int32)}"
      ]
     },
     "execution_count": 9,
     "metadata": {},
     "output_type": "execute_result"
    }
   ],
   "source": [
    "cv_L2.cv_results_"
   ]
  }
 ],
 "metadata": {
  "kernelspec": {
   "display_name": "textdata",
   "language": "python",
   "name": "textdata"
  },
  "language_info": {
   "codemirror_mode": {
    "name": "ipython",
    "version": 3
   },
   "file_extension": ".py",
   "mimetype": "text/x-python",
   "name": "python",
   "nbconvert_exporter": "python",
   "pygments_lexer": "ipython3",
   "version": "3.8.10"
  }
 },
 "nbformat": 4,
 "nbformat_minor": 4
}
