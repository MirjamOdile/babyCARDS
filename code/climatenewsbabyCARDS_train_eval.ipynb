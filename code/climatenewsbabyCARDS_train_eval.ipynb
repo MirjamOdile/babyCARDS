{
 "cells": [
  {
   "cell_type": "code",
   "execution_count": 1,
   "metadata": {},
   "outputs": [],
   "source": [
    "## Author: Mirjam Nanko\n",
    "## Date Created: 2022-10-13\n",
    "## Email: m.nanko@exeter.ac.uk"
   ]
  },
  {
   "cell_type": "markdown",
   "metadata": {},
   "source": [
    "# climatenewsbabyCARDS classifier training and evaluation<br>\n",
    "#### This script loads the climate related **training, validation and testing** data sourced from various **blogs and newspapers** and trains a classifier to classify these into **convinced** (0) and **contrarian** (1)."
   ]
  },
  {
   "cell_type": "markdown",
   "metadata": {},
   "source": [
    "# Packages"
   ]
  },
  {
   "cell_type": "code",
   "execution_count": 2,
   "metadata": {},
   "outputs": [],
   "source": [
    "from preprocess_climatenews import denoise_text\n",
    "from preprocess_climatenews import simple_tokenise\n",
    "from logistic_climatenews import fit_logistic_classifier\n",
    "from logistic_climatenews import show_most_informative_features\n",
    "import pandas as pd\n",
    "from sklearn import metrics\n",
    "import pickle\n",
    "# import warnings\n",
    "# warnings.filterwarnings(\"ignore\", category=UserWarning, module='bs4')"
   ]
  },
  {
   "cell_type": "markdown",
   "metadata": {},
   "source": [
    "# Load and preprocess the training, validation and testing data"
   ]
  },
  {
   "cell_type": "code",
   "execution_count": 3,
   "metadata": {},
   "outputs": [
    {
     "name": "stdout",
     "output_type": "stream",
     "text": [
      "CPU times: user 2min 1s, sys: 3.91 s, total: 2min 5s\n",
      "Wall time: 2min 5s\n"
     ]
    }
   ],
   "source": [
    "%%time\n",
    "# Load the data\n",
    "train = pd.read_csv('../data/climatenewsbabyCARDStrain.csv', lineterminator='\\n')\n",
    "valid = pd.read_csv('../data/climatenewsbabyCARDSvalid.csv', lineterminator='\\n')\n",
    "test = pd.read_csv('../data/climatenewsbabyCARDStest.csv', lineterminator='\\n')\n",
    "# Preprocess the text\n",
    "train['tokens'] = train['text'].astype(str).apply(denoise_text).apply(simple_tokenise)\n",
    "valid['tokens'] = valid['text'].astype(str).apply(denoise_text).apply(simple_tokenise)\n",
    "test['tokens'] = test['text'].astype(str).apply(denoise_text).apply(simple_tokenise)"
   ]
  },
  {
   "cell_type": "markdown",
   "metadata": {},
   "source": [
    "# Train the logistic classifier"
   ]
  },
  {
   "cell_type": "code",
   "execution_count": 4,
   "metadata": {},
   "outputs": [
    {
     "name": "stdout",
     "output_type": "stream",
     "text": [
      "CPU times: user 18min 38s, sys: 1min 38s, total: 20min 16s\n",
      "Wall time: 16min 43s\n"
     ]
    }
   ],
   "source": [
    "%%time\n",
    "# Fit the classifier\n",
    "data = train[['tokens','label']].values.tolist()\n",
    "model = fit_logistic_classifier(data, C=1000)"
   ]
  },
  {
   "cell_type": "markdown",
   "metadata": {},
   "source": [
    "# Encode and vectorize the validation and testing data"
   ]
  },
  {
   "cell_type": "code",
   "execution_count": 5,
   "metadata": {},
   "outputs": [
    {
     "name": "stdout",
     "output_type": "stream",
     "text": [
      "CPU times: user 2min 5s, sys: 1.2 s, total: 2min 7s\n",
      "Wall time: 2min 7s\n"
     ]
    }
   ],
   "source": [
    "%%time\n",
    "# Encode the labels\n",
    "y_valid = model['label_encoder'].transform(valid.label)\n",
    "y_test = model['label_encoder'].transform(test.label)\n",
    "# Vectorize the text\n",
    "X_valid = model['vectorizer'].transform(valid.tokens)\n",
    "X_test = model['vectorizer'].transform(test.tokens)"
   ]
  },
  {
   "cell_type": "markdown",
   "metadata": {},
   "source": [
    "# Inspect the classifier performance"
   ]
  },
  {
   "cell_type": "code",
   "execution_count": 6,
   "metadata": {},
   "outputs": [
    {
     "name": "stdout",
     "output_type": "stream",
     "text": [
      "Validation data:\n",
      "\n",
      "              precision    recall  f1-score   support\n",
      "\n",
      "           0       0.92      0.91      0.91     14668\n",
      "           1       0.95      0.95      0.95     25841\n",
      "\n",
      "    accuracy                           0.94     40509\n",
      "   macro avg       0.93      0.93      0.93     40509\n",
      "weighted avg       0.94      0.94      0.94     40509\n",
      "\n",
      "\n",
      "\n",
      "Testing data (unseen bloggers and newspaper articles):\n",
      "\n",
      "              precision    recall  f1-score   support\n",
      "\n",
      "           0       0.93      0.91      0.92      7337\n",
      "           1       0.94      0.95      0.95     11443\n",
      "\n",
      "    accuracy                           0.94     18780\n",
      "   macro avg       0.93      0.93      0.93     18780\n",
      "weighted avg       0.94      0.94      0.94     18780\n",
      "\n"
     ]
    }
   ],
   "source": [
    "print('Validation data:\\n')\n",
    "print(metrics.classification_report(y_valid, model['clf'].predict(X_valid)))\n",
    "print('\\n\\nTesting data (unseen bloggers and newspaper articles):\\n')\n",
    "print(metrics.classification_report(y_test, model['clf'].predict(X_test)))"
   ]
  },
  {
   "cell_type": "markdown",
   "metadata": {},
   "source": [
    "# Save the classifier"
   ]
  },
  {
   "cell_type": "code",
   "execution_count": 7,
   "metadata": {},
   "outputs": [],
   "source": [
    "# Save the classifier\n",
    "pkl_filename = \"../classifiers/climatenewsbabyCARDS.pkl\"\n",
    "with open(pkl_filename, 'wb') as file:\n",
    "    pickle.dump(model, file)\n",
    "# Load classifier from file\n",
    "# with open(pkl_filename, 'rb') as file:\n",
    "#     model = pickle.load(file)"
   ]
  }
 ],
 "metadata": {
  "kernelspec": {
   "display_name": "cards-github",
   "language": "python",
   "name": "cards-github"
  },
  "language_info": {
   "codemirror_mode": {
    "name": "ipython",
    "version": 3
   },
   "file_extension": ".py",
   "mimetype": "text/x-python",
   "name": "python",
   "nbconvert_exporter": "python",
   "pygments_lexer": "ipython3",
   "version": "3.8.10"
  }
 },
 "nbformat": 4,
 "nbformat_minor": 4
}
