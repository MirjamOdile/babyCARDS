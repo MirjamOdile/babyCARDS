{
 "cells": [
  {
   "cell_type": "code",
   "execution_count": 1,
   "metadata": {},
   "outputs": [],
   "source": [
    "## Author: Mirjam Nanko\n",
    "## Date Created: 2022-10-13\n",
    "## Email: m.nanko@exeter.ac.uk"
   ]
  },
  {
   "cell_type": "markdown",
   "metadata": {},
   "source": [
    "# climatenewsbabyCARDS classifier training and evaluation<br>\n",
    "#### This script loads the climate related **training, validation and testing** data sourced from various **blogs and newspapers** and trains a classifier to classify these into **convinced** (0) and **contrarian** (1)."
   ]
  },
  {
   "cell_type": "markdown",
   "metadata": {},
   "source": [
    "# Packages"
   ]
  },
  {
   "cell_type": "code",
   "execution_count": 2,
   "metadata": {},
   "outputs": [],
   "source": [
    "from preprocess_climatenews import denoise_text\n",
    "from preprocess_climatenews import simple_tokenise\n",
    "from logistic_climatenews import fit_logistic_classifier\n",
    "from logistic_climatenews import show_most_informative_features\n",
    "import pandas as pd\n",
    "from sklearn import metrics\n",
    "import pickle"
   ]
  },
  {
   "cell_type": "markdown",
   "metadata": {},
   "source": [
    "# Load and preprocess the training, validation and testing data"
   ]
  },
  {
   "cell_type": "code",
   "execution_count": 3,
   "metadata": {},
   "outputs": [
    {
     "name": "stdout",
     "output_type": "stream",
     "text": [
      "CPU times: user 1min 53s, sys: 3.8 s, total: 1min 56s\n",
      "Wall time: 1min 57s\n"
     ]
    }
   ],
   "source": [
    "%%time\n",
    "# Load the data\n",
    "train = pd.read_csv('../data/climatenewsbabyCARDStrain.csv', lineterminator='\\n')\n",
    "valid = pd.read_csv('../data/climatenewsbabyCARDSvalid.csv', lineterminator='\\n')\n",
    "test = pd.read_csv('../data/climatenewsbabyCARDStest.csv', lineterminator='\\n')\n",
    "# Preprocess the text\n",
    "train['tokens'] = train['text'].astype(str).apply(denoise_text).apply(simple_tokenise)\n",
    "valid['tokens'] = valid['text'].astype(str).apply(denoise_text).apply(simple_tokenise)\n",
    "test['tokens'] = test['text'].astype(str).apply(denoise_text).apply(simple_tokenise)"
   ]
  },
  {
   "cell_type": "markdown",
   "metadata": {},
   "source": [
    "# Train the logistic classifier"
   ]
  },
  {
   "cell_type": "code",
   "execution_count": 4,
   "metadata": {},
   "outputs": [
    {
     "name": "stdout",
     "output_type": "stream",
     "text": [
      "CPU times: user 16min 47s, sys: 1min 39s, total: 18min 26s\n",
      "Wall time: 15min 1s\n"
     ]
    }
   ],
   "source": [
    "%%time\n",
    "# Fit the classifier\n",
    "data = train[['tokens','label']].values.tolist()\n",
    "model = fit_logistic_classifier(data, C=1000)"
   ]
  },
  {
   "cell_type": "markdown",
   "metadata": {},
   "source": [
    "# Encode and vectorize the validation and testing data"
   ]
  },
  {
   "cell_type": "code",
   "execution_count": 5,
   "metadata": {},
   "outputs": [
    {
     "name": "stdout",
     "output_type": "stream",
     "text": [
      "CPU times: user 2min 5s, sys: 1.07 s, total: 2min 6s\n",
      "Wall time: 2min 6s\n"
     ]
    }
   ],
   "source": [
    "%%time\n",
    "# Encode the labels\n",
    "y_valid = model['label_encoder'].transform(valid.label)\n",
    "y_test = model['label_encoder'].transform(test.label)\n",
    "# Vectorize the text\n",
    "X_valid = model['vectorizer'].transform(valid.tokens)\n",
    "X_test = model['vectorizer'].transform(test.tokens)"
   ]
  },
  {
   "cell_type": "markdown",
   "metadata": {},
   "source": [
    "# Inspect the classifier performance"
   ]
  },
  {
   "cell_type": "code",
   "execution_count": 6,
   "metadata": {},
   "outputs": [
    {
     "name": "stdout",
     "output_type": "stream",
     "text": [
      "Validation data:\n",
      "\n",
      "              precision    recall  f1-score   support\n",
      "\n",
      "           0       0.92      0.91      0.91     14668\n",
      "           1       0.95      0.95      0.95     25841\n",
      "\n",
      "    accuracy                           0.94     40509\n",
      "   macro avg       0.93      0.93      0.93     40509\n",
      "weighted avg       0.94      0.94      0.94     40509\n",
      "\n",
      "\n",
      "\n",
      "Testing data (unseen bloggers and newspaper articles):\n",
      "\n",
      "              precision    recall  f1-score   support\n",
      "\n",
      "           0       0.93      0.91      0.92      7337\n",
      "           1       0.94      0.95      0.95     11443\n",
      "\n",
      "    accuracy                           0.94     18780\n",
      "   macro avg       0.93      0.93      0.93     18780\n",
      "weighted avg       0.94      0.94      0.94     18780\n",
      "\n"
     ]
    }
   ],
   "source": [
    "print('Validation data:\\n')\n",
    "print(metrics.classification_report(y_valid, model['clf'].predict(X_valid)))\n",
    "print('\\n\\nTesting data (unseen bloggers and newspaper articles):\\n')\n",
    "print(metrics.classification_report(y_test, model['clf'].predict(X_test)))"
   ]
  },
  {
   "cell_type": "markdown",
   "metadata": {},
   "source": [
    "# Encode and vectorize the validation and testing data limited to newspaper articles"
   ]
  },
  {
   "cell_type": "code",
   "execution_count": 7,
   "metadata": {},
   "outputs": [
    {
     "name": "stdout",
     "output_type": "stream",
     "text": [
      "CPU times: user 17.8 s, sys: 123 ms, total: 17.9 s\n",
      "Wall time: 17.9 s\n"
     ]
    }
   ],
   "source": [
    "%%time\n",
    "# Encode the labels\n",
    "y_valid_news = model['label_encoder'].transform(valid[valid.type == 'newspaper'].label)\n",
    "y_test_news = model['label_encoder'].transform(test[test.type == 'newspaper'].label)\n",
    "# Vectorize the text\n",
    "X_valid_news = model['vectorizer'].transform(valid[valid.type == 'newspaper'].tokens)\n",
    "X_test_news = model['vectorizer'].transform(test[test.type == 'newspaper'].tokens)"
   ]
  },
  {
   "cell_type": "markdown",
   "metadata": {},
   "source": [
    "# Inspect the classifier performance limited to newspaper articles"
   ]
  },
  {
   "cell_type": "code",
   "execution_count": 8,
   "metadata": {},
   "outputs": [
    {
     "name": "stdout",
     "output_type": "stream",
     "text": [
      "Validation data (limited to newspaper articles):\n",
      "\n",
      "              precision    recall  f1-score   support\n",
      "\n",
      "           0       0.96      0.84      0.90      1153\n",
      "           1       0.78      0.94      0.86       691\n",
      "\n",
      "    accuracy                           0.88      1844\n",
      "   macro avg       0.87      0.89      0.88      1844\n",
      "weighted avg       0.89      0.88      0.88      1844\n",
      "\n",
      "\n",
      "\n",
      "Testing data (limited to newspaper articles):\n",
      "\n",
      "              precision    recall  f1-score   support\n",
      "\n",
      "           0       0.95      0.82      0.88       805\n",
      "           1       0.76      0.93      0.84       496\n",
      "\n",
      "    accuracy                           0.86      1301\n",
      "   macro avg       0.86      0.88      0.86      1301\n",
      "weighted avg       0.88      0.86      0.87      1301\n",
      "\n"
     ]
    }
   ],
   "source": [
    "print('Validation data (limited to newspaper articles):\\n')\n",
    "print(metrics.classification_report(y_valid_news, model['clf'].predict(X_valid_news)))\n",
    "print('\\n\\nTesting data (limited to newspaper articles):\\n')\n",
    "print(metrics.classification_report(y_test_news, model['clf'].predict(X_test_news)))"
   ]
  },
  {
   "cell_type": "markdown",
   "metadata": {},
   "source": [
    "# Save the classifier"
   ]
  },
  {
   "cell_type": "code",
   "execution_count": 10,
   "metadata": {},
   "outputs": [],
   "source": [
    "# Save the classifier\n",
    "pkl_filename = \"../classifiers/climatenewsbabyCARDS.pkl\"\n",
    "with open(pkl_filename, 'wb') as file:\n",
    "    pickle.dump(model, file)\n",
    "# Load classifier from file\n",
    "# with open(pkl_filename, 'rb') as file:\n",
    "#     model = pickle.load(file)"
   ]
  }
 ],
 "metadata": {
  "kernelspec": {
   "display_name": "cards-github",
   "language": "python",
   "name": "cards-github"
  },
  "language_info": {
   "codemirror_mode": {
    "name": "ipython",
    "version": 3
   },
   "file_extension": ".py",
   "mimetype": "text/x-python",
   "name": "python",
   "nbconvert_exporter": "python",
   "pygments_lexer": "ipython3",
   "version": "3.8.10"
  }
 },
 "nbformat": 4,
 "nbformat_minor": 4
}
